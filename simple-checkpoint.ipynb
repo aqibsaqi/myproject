{
 "cells": [
  {
   "cell_type": "code",
   "execution_count": null,
   "id": "92045f22",
   "metadata": {},
   "outputs": [],
   "source": [
    "print(\"simple calcula\")\n",
    "a = int(input(\"enter the first number \"))\n",
    "b = int(input(\"enter the second number\"))\n",
    "op = input(\"enter the operator\")\n",
    "if op == \"+\":\n",
    "  print(\"the total sum is :\", a + b)\n",
    "elif op == \"-\":\n",
    "  print(\"the total subtract is :\", a - b)\n",
    "\n",
    "elif op == \"*\":\n",
    "  print(\"the total multiply is :\", a * b)\n",
    "\n",
    "elif op == \"/\":\n",
    "  print(\"result is :\", a / b)\n",
    "else:\n",
    "  print(\"invalid operator\")\n"
   ]
  }
 ],
 "metadata": {
  "kernelspec": {
   "display_name": "Python 3 (ipykernel)",
   "language": "python",
   "name": "python3"
  },
  "language_info": {
   "codemirror_mode": {
    "name": "ipython",
    "version": 3
   },
   "file_extension": ".py",
   "mimetype": "text/x-python",
   "name": "python",
   "nbconvert_exporter": "python",
   "pygments_lexer": "ipython3",
   "version": "3.11.7"
  }
 },
 "nbformat": 4,
 "nbformat_minor": 5
}
